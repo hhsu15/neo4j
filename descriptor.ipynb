{
 "cells": [
  {
   "cell_type": "code",
   "execution_count": 124,
   "metadata": {},
   "outputs": [],
   "source": [
    "from functools import partial\n",
    "\n",
    "class Validation:\n",
    "    \n",
    "    def __init__(self, f):\n",
    "        self.f = f\n",
    "        \n",
    "    def __get__(self, instance, type):\n",
    "        \n",
    "        return partial(self.f, self)\n",
    "\n"
   ]
  },
  {
   "cell_type": "code",
   "execution_count": 125,
   "metadata": {},
   "outputs": [],
   "source": [
    "class SomeClass:\n",
    "    \n",
    "    def __init__(self):\n",
    "        self.name = \"Hsin\"\n",
    "        \n",
    "    @Validation\n",
    "    def my_method(self, arg):\n",
    "        return arg\n",
    "    "
   ]
  },
  {
   "cell_type": "code",
   "execution_count": 121,
   "metadata": {},
   "outputs": [],
   "source": [
    "sc = SomeClass()"
   ]
  },
  {
   "cell_type": "code",
   "execution_count": 122,
   "metadata": {},
   "outputs": [
    {
     "data": {
      "text/plain": [
       "2"
      ]
     },
     "execution_count": 122,
     "metadata": {},
     "output_type": "execute_result"
    }
   ],
   "source": [
    "sc.my_method(2)"
   ]
  },
  {
   "cell_type": "code",
   "execution_count": 123,
   "metadata": {},
   "outputs": [
    {
     "data": {
      "text/plain": [
       "<__main__.SomeClass at 0x10c49a128>"
      ]
     },
     "execution_count": 123,
     "metadata": {},
     "output_type": "execute_result"
    }
   ],
   "source": [
    "sc"
   ]
  },
  {
   "cell_type": "code",
   "execution_count": 140,
   "metadata": {},
   "outputs": [],
   "source": [
    "import random\n",
    "import time\n",
    "\n",
    "class LazyProperty:\n",
    "    def __init__(self, function):\n",
    "        self.function = function\n",
    "        self.name = function.__name__\n",
    "\n",
    "    def __get__(self, obj, type=None) -> object:\n",
    "        obj.__dict__[self.name] = self.function(obj)\n",
    "        return obj.__dict__[self.name]\n",
    "\n",
    "class DeepThought:\n",
    "    @LazyProperty\n",
    "    def meaning_of_life(self):\n",
    "        time.sleep(3)\n",
    "        return 42"
   ]
  },
  {
   "cell_type": "code",
   "execution_count": 141,
   "metadata": {},
   "outputs": [
    {
     "data": {
      "text/plain": [
       "42"
      ]
     },
     "execution_count": 141,
     "metadata": {},
     "output_type": "execute_result"
    }
   ],
   "source": [
    "dt = DeepThought()\n",
    "dt.meaning_of_life"
   ]
  },
  {
   "cell_type": "code",
   "execution_count": 142,
   "metadata": {},
   "outputs": [],
   "source": [
    "import random\n",
    "import time\n",
    "\n",
    "class lazy:\n",
    "    def __init__(self, f):\n",
    "        self.f = f\n",
    "        self.name = f.__name__\n",
    "        \n",
    "    def __get__(self, instance, type=None):\n",
    "        # basic caching\n",
    "        print(instance)\n",
    "        print(self.name)\n",
    "        instance.__dict__[self.name] = self.f(instance) # call the method and assign property to the instance\n",
    "        return instance.__dict__[self.name]  # return the output\n",
    "    \n",
    "class HeavyThing:\n",
    "    \n",
    "    @lazy\n",
    "    def get_something(self):\n",
    "        time.sleep(3)  # takes time\n",
    "        return \"response from something that took a long time\"\n",
    " \n",
    "\n"
   ]
  },
  {
   "cell_type": "code",
   "execution_count": 143,
   "metadata": {},
   "outputs": [],
   "source": [
    "ht = HeavyThing()"
   ]
  },
  {
   "cell_type": "code",
   "execution_count": 145,
   "metadata": {},
   "outputs": [
    {
     "data": {
      "text/plain": [
       "'response from something that took a long time'"
      ]
     },
     "execution_count": 145,
     "metadata": {},
     "output_type": "execute_result"
    }
   ],
   "source": [
    "ht.get_something"
   ]
  },
  {
   "cell_type": "code",
   "execution_count": null,
   "metadata": {},
   "outputs": [],
   "source": [
    "ht.get_something"
   ]
  },
  {
   "cell_type": "code",
   "execution_count": null,
   "metadata": {},
   "outputs": [],
   "source": []
  }
 ],
 "metadata": {
  "kernelspec": {
   "display_name": "Python 3.7.2 64-bit ('3.7.2': pyenv)",
   "language": "python",
   "name": "python37264bit372pyenv598c0904c91f42e8a121f9ab66f95843"
  },
  "language_info": {
   "codemirror_mode": {
    "name": "ipython",
    "version": 3
   },
   "file_extension": ".py",
   "mimetype": "text/x-python",
   "name": "python",
   "nbconvert_exporter": "python",
   "pygments_lexer": "ipython3",
   "version": "3.7.2"
  }
 },
 "nbformat": 4,
 "nbformat_minor": 2
}
