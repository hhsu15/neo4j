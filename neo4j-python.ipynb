{
 "cells": [
  {
   "cell_type": "code",
   "execution_count": 61,
   "metadata": {},
   "outputs": [
    {
     "name": "stdout",
     "output_type": "stream",
     "text": [
      "hello, world, from node 173\n"
     ]
    }
   ],
   "source": [
    "from neo4j import GraphDatabase\n",
    "\n",
    "\n",
    "class HelloWorldExample:\n",
    "\n",
    "    def __init__(self, uri, user, password):\n",
    "        self.driver = GraphDatabase.driver(uri, auth=(user, password))\n",
    "\n",
    "    def close(self):\n",
    "        self.driver.close()\n",
    "\n",
    "    def print_greeting(self, message):\n",
    "        with self.driver.session() as session:\n",
    "            greeting = session.write_transaction(self._create_and_return_greeting, message)\n",
    "            print(greeting)\n",
    "\n",
    "    @staticmethod\n",
    "    def _create_and_return_greeting(tx, message):\n",
    "        query = (\n",
    "            \"CREATE (a:Greeting) \"\n",
    "            \"SET a.message = $message \"\n",
    "            \"RETURN a.message + ', from node ' + id(a)\"    \n",
    "        )\n",
    "        result = tx.run(query, message=message)\n",
    "        return result.single()[0]\n",
    "    \n",
    "       \n",
    "if __name__ == \"__main__\":\n",
    "    greeter = HelloWorldExample(\"bolt://localhost:7687\", \"neo4j\", \"password\")\n",
    "    greeter.print_greeting(\"hello, world\")\n",
    "    greeter.close()"
   ]
  },
  {
   "cell_type": "code",
   "execution_count": 58,
   "metadata": {},
   "outputs": [
    {
     "data": {
      "text/plain": [
       "<bound method Driver.close of <neo4j.Neo4jDriver object at 0x10cb5fc50>>"
      ]
     },
     "execution_count": 58,
     "metadata": {},
     "output_type": "execute_result"
    }
   ],
   "source": [
    "# truly basic example\n",
    "driver = GraphDatabase.driver(\"neo4j://localhost:7687\", auth=(\"neo4j\", \"password\"))\n",
    "\n",
    "def get_data(tx):  # will get a transaction\n",
    "    query = \"MATCH (m:Movie) RETURN m.title\"\n",
    "    result = []\n",
    "    for record in tx.run(query):\n",
    "        result.append(record['m.title'])\n",
    "    return result\n",
    "    \n",
    "with driver.session() as session:\n",
    "    data = session.read_transaction(get_data)\n",
    "    \n",
    "driver.close"
   ]
  },
  {
   "cell_type": "code",
   "execution_count": 59,
   "metadata": {},
   "outputs": [
    {
     "name": "stdout",
     "output_type": "stream",
     "text": [
      "The Matrix\n",
      "The Matrix Reloaded\n",
      "The Matrix Revolutions\n",
      "The Devil's Advocate\n",
      "A Few Good Men\n",
      "Top Gun\n",
      "Jerry Maguire\n",
      "Stand By Me\n",
      "As Good as It Gets\n",
      "What Dreams May Come\n",
      "Snow Falling on Cedars\n",
      "You've Got Mail\n",
      "Sleepless in Seattle\n",
      "Joe Versus the Volcano\n",
      "When Harry Met Sally\n",
      "That Thing You Do\n",
      "The Replacements\n",
      "RescueDawn\n",
      "The Birdcage\n",
      "Unforgiven\n",
      "Johnny Mnemonic\n",
      "Cloud Atlas\n",
      "The Da Vinci Code\n",
      "V for Vendetta\n",
      "Speed Racer\n",
      "Ninja Assassin\n",
      "The Green Mile\n",
      "Frost/Nixon\n",
      "Hoffa\n",
      "Apollo 13\n",
      "Twister\n",
      "Cast Away\n",
      "One Flew Over the Cuckoo's Nest\n",
      "Something's Gotta Give\n",
      "Bicentennial Man\n",
      "Charlie Wilson's War\n",
      "The Polar Express\n",
      "A League of Their Own\n"
     ]
    }
   ],
   "source": [
    "for i in data:\n",
    "    print(i)"
   ]
  },
  {
   "cell_type": "code",
   "execution_count": null,
   "metadata": {},
   "outputs": [],
   "source": []
  }
 ],
 "metadata": {
  "kernelspec": {
   "display_name": "Python 3.7.2 64-bit ('3.7.2': pyenv)",
   "language": "python",
   "name": "python37264bit372pyenv598c0904c91f42e8a121f9ab66f95843"
  },
  "language_info": {
   "codemirror_mode": {
    "name": "ipython",
    "version": 3
   },
   "file_extension": ".py",
   "mimetype": "text/x-python",
   "name": "python",
   "nbconvert_exporter": "python",
   "pygments_lexer": "ipython3",
   "version": "3.7.2"
  }
 },
 "nbformat": 4,
 "nbformat_minor": 2
}
